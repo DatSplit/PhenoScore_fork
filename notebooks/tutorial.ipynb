{
 "cells": [
  {
   "cell_type": "markdown",
   "metadata": {
    "collapsed": true,
    "pycharm": {
     "is_executing": true
    }
   },
   "source": [
    "# Getting started with PhenoScore\n",
    "In this notebook, we will run some basic analyses using PhenoScore to demonstrate how it works.\n",
    "First, lets get started and import the installed package (for instructions, please see the README.md)"
   ]
  },
  {
   "cell_type": "code",
   "execution_count": 1,
   "metadata": {
    "scrolled": true
   },
   "outputs": [],
   "source": [
    "from phenoscore.phenoscorer import PhenoScorer\n",
    "import os"
   ]
  },
  {
   "cell_type": "markdown",
   "metadata": {},
   "source": [
    "Then, decided on what mode you want to run PhenoScore in: HPO-only, facial-features only, or using both. \n",
    "For now, we will do both and intialize PhenoScore with the standard options. PhenoScore will autodetect any GPUs that are available and if there are none, revert to CPU mode. If there are no GPUs detected, while there should be, please double check your installation and confirm cuDNN is installed in this environment as well."
   ]
  },
  {
   "cell_type": "code",
   "execution_count": 2,
   "metadata": {},
   "outputs": [
    {
     "name": "stdout",
     "output_type": "stream",
     "text": [
      "Using GPUs:1\n",
      "Pretrained weights already exist, skipping download.\n",
      "=> loading pth from C:\\ProgramData\\Anaconda3\\envs\\PhenoScore\\Lib\\site-packages\\phenoscore\\facial_feature_extraction\\QMagFace\\models_qmag\\magface_models\\magface_epoch_00025.pth ...\n"
     ]
    }
   ],
   "source": [
    "mode = 'both'\n",
    "N_LIME = 1 #this is purely for speed during testing purposes: for same results as in paper, set N_LIME=5\n",
    "\n",
    "phenoscorer = PhenoScorer(gene_name='SATB1', \n",
    "                          mode=mode,\n",
    "                         face_module='QMagFace')"
   ]
  },
  {
   "cell_type": "markdown",
   "metadata": {},
   "source": [
    "Now that PhenoScore is ready, let's load data. In this case, let's take a look at the SATB1 subgroup analyses: the data is included in the package."
   ]
  },
  {
   "cell_type": "code",
   "execution_count": 3,
   "metadata": {},
   "outputs": [
    {
     "name": "stdout",
     "output_type": "stream",
     "text": [
      "Data loaded!\n"
     ]
    }
   ],
   "source": [
    "X, y, img_paths, df_data = phenoscorer.load_data_from_excel(os.path.join('../', 'phenoscore', 'sample_data','satb1_data.xlsx'))\n",
    "print('Data loaded!')"
   ]
  },
  {
   "cell_type": "code",
   "execution_count": 4,
   "metadata": {},
   "outputs": [
    {
     "name": "stdout",
     "output_type": "stream",
     "text": [
      "[[-1.0466831 -0.024507554 1.5157256 ... -0.849308 0.65444916\n",
      "  list(['HP:0002015', 'HP:0002307', 'HP:0000324', 'HP:0006482', 'HP:0001263', 'HP:0000356', 'HP:0000364', 'HP:0002650', 'HP:0000776', 'HP:0000646', 'HP:0001260', 'HP:0000902', 'HP:0031936', 'HP:0004880', 'HP:0001256', 'HP:0030021', 'HP:0000750', 'HP:0000168', 'HP:0000271', 'HP:0000708', 'HP:0000413', 'HP:0001270'])]\n",
      " [0.45322195 1.2440773 1.1922555 ... 0.038673602 -1.0815593\n",
      "  list(['HP:0012015', 'HP:0000750', 'HP:0002643', 'HP:0011342', 'HP:0040083', 'HP:0002720', 'HP:0003496', 'HP:0000271', 'HP:0001250', 'HP:0001256', 'HP:0011054', 'HP:0002275', 'HP:0002280', 'HP:0004315', 'HP:0025502', 'HP:0001270'])]\n",
      " [0.11083773 -0.5215106 0.2013677 ... -0.045515653 -2.3599765\n",
      "  list(['HP:0000750', 'HP:0005484', 'HP:0002307', 'HP:0011410', 'HP:0008936', 'HP:0003487', 'HP:0025116', 'HP:0000483', 'HP:0011344', 'HP:0001270'])]\n",
      " ...\n",
      " [1.0497137 1.0705472 0.9422452 ... -1.1541563 -1.3748822\n",
      "  list(['HP:0000680', 'HP:0001252', 'HP:0002353', 'HP:0011972', 'HP:0000271', 'HP:0010818', 'HP:0004429', 'HP:0002421', 'HP:0001263', 'HP:0000504', 'HP:0000817', 'HP:0001270'])]\n",
      " [0.5259507 1.145682 2.1049056 ... 1.3226024 0.08634922\n",
      "  list(['HP:0002015', 'HP:0002307', 'HP:0001344', 'HP:0002090', 'HP:0008936', 'HP:0002521', 'HP:0000010', 'HP:0001263', 'HP:0011968', 'HP:0200055', 'HP:0001337', 'HP:0001317', 'HP:0004325', 'HP:0012768', 'HP:0004322', 'HP:0002783', 'HP:0100613', 'HP:0000691', 'HP:0002921', 'HP:0011166', 'HP:0000750', 'HP:0001773', 'HP:0007082', 'HP:0002376', 'HP:0004789', 'HP:0012420', 'HP:0000705', 'HP:0006956', 'HP:0006285', 'HP:0006286', 'HP:0000964', 'HP:0001998', 'HP:0001270'])]\n",
      " [-1.2074817 -0.9560817 0.1310023 ... 0.50792307 -0.32046968\n",
      "  list(['HP:0001257', 'HP:0002187', 'HP:0002353', 'HP:0001344', 'HP:0001263', 'HP:0000684', 'HP:0000252', 'HP:0001250', 'HP:0200134', 'HP:0025336', 'HP:0011421', 'HP:0000958', 'HP:0000750', 'HP:0001252', 'HP:0007204', 'HP:0000271', 'HP:0000705', 'HP:0006286', 'HP:0001270'])]]\n"
     ]
    }
   ],
   "source": [
    "print(X)"
   ]
  },
  {
   "cell_type": "markdown",
   "metadata": {},
   "source": [
    "Now that the data is loaded, we can run the permutation test, to see if we can distinguish the two groups."
   ]
  },
  {
   "cell_type": "code",
   "execution_count": null,
   "metadata": {
    "pycharm": {
     "is_executing": true
    }
   },
   "outputs": [
    {
     "name": "stderr",
     "output_type": "stream",
     "text": [
      " 38%|███▊      | 381/1001 [01:26<01:30,  6.82it/s]"
     ]
    }
   ],
   "source": [
    "phenoscorer.permutation_test(X, y, bootstraps=1000)\n",
    "print(\"Brier:\" + str(phenoscorer.permutation_test_brier))\n",
    "print(\"AUC:\" + str(phenoscorer.permutation_test_auc))\n",
    "print(\"P value:\" + str(phenoscorer.permutation_test_p_value))"
   ]
  },
  {
   "cell_type": "markdown",
   "metadata": {},
   "source": [
    "The result is significant! So PhenoScore is able to detect a phenotypic difference between the two groups. Of course, we would like to know what the clinical difference is. So let's investigate this, using LIME. "
   ]
  },
  {
   "cell_type": "code",
   "execution_count": null,
   "metadata": {
    "pycharm": {
     "is_executing": true
    }
   },
   "outputs": [],
   "source": [
    "phenoscorer.get_lime(X, y, img_paths, n_lime=N_LIME)\n",
    "phenoscorer.gen_lime_and_results_figure(bg_image=os.path.join('../', 'phenoscore', 'sample_data','background_image.jpg'),\n",
    "                                        df_data=df_data, filename='lime_figure.pdf')\n",
    "print(\"LIME images generated!\")"
   ]
  },
  {
   "cell_type": "markdown",
   "metadata": {},
   "source": [
    "Finally, we can generate a VUS prediction for a SATB1 individual (as if it where an individual with a VUS, of course in this case, purely for demonstrational purposes). Because of the demonstrational purpose and speed, we choose ``lime_iter=10``(normally we would do ``lime_iter=100`` to obtain a higher resolution heatmap)."
   ]
  },
  {
   "cell_type": "code",
   "execution_count": null,
   "metadata": {
    "pycharm": {
     "is_executing": true
    }
   },
   "outputs": [],
   "source": [
    "phenoscorer.predict_new_sample(X, y, img_paths[0], X[0,-1], lime_iter=10)\n",
    "print(\"Predictive score between 0 (control) and 1 (syndrome): \" + str(phenoscorer.vus_results[0]))\n",
    "phenoscorer.gen_vus_figure(filename='individual_lime_explanations.pdf')"
   ]
  },
  {
   "cell_type": "markdown",
   "metadata": {},
   "source": [
    "We can do the same procedures for HPO-only mode as well, simply by just changing that parameter."
   ]
  },
  {
   "cell_type": "code",
   "execution_count": null,
   "metadata": {
    "pycharm": {
     "is_executing": true
    }
   },
   "outputs": [],
   "source": [
    "mode = 'hpo'\n",
    "phenoscorer = PhenoScorer(gene_name='SATB1', \n",
    "                          mode=mode)\n",
    "X, y, img_paths, df_data = phenoscorer.load_data_from_excel(os.path.join('../', 'phenoscore', 'sample_data','satb1_data.xlsx'))\n",
    "print('Data loaded!')\n",
    "phenoscorer.permutation_test(X, y, bootstraps=1000)\n",
    "print(\"Brier:\" + str(phenoscorer.permutation_test_brier))\n",
    "print(\"AUC:\" + str(phenoscorer.permutation_test_auc))\n",
    "print(\"P value:\" + str(phenoscorer.permutation_test_p_value))\n",
    "phenoscorer.get_lime(X, y, img_paths, n_lime=N_LIME)\n",
    "phenoscorer.gen_lime_and_results_figure(bg_image=os.path.join('../', 'phenoscore', 'sample_data','background_image.jpg'),\n",
    "                                        df_data=df_data, filename='lime_figure.pdf')\n",
    "print(\"LIME images generated!\")"
   ]
  },
  {
   "cell_type": "markdown",
   "metadata": {},
   "source": [
    "And similar when only using facial images (or when these are the only ones available):"
   ]
  },
  {
   "cell_type": "code",
   "execution_count": null,
   "metadata": {
    "pycharm": {
     "is_executing": true
    }
   },
   "outputs": [],
   "source": [
    "mode = 'face'\n",
    "phenoscorer = PhenoScorer(gene_name='SATB1', \n",
    "                          mode=mode)\n",
    "X, y, img_paths, df_data = phenoscorer.load_data_from_excel(os.path.join('../', 'phenoscore', 'sample_data','satb1_data.xlsx'))\n",
    "print('Data loaded!')\n",
    "phenoscorer.permutation_test(X, y, bootstraps=1000)\n",
    "print(\"Brier:\" + str(phenoscorer.permutation_test_brier))\n",
    "print(\"AUC:\" + str(phenoscorer.permutation_test_auc))\n",
    "print(\"P value:\" + str(phenoscorer.permutation_test_p_value))\n",
    "phenoscorer.get_lime(X, y, img_paths, n_lime=N_LIME)\n",
    "phenoscorer.gen_lime_and_results_figure(bg_image=os.path.join('../', 'phenoscore', 'sample_data','background_image.jpg'),\n",
    "                                        df_data=df_data, filename='lime_figure.pdf')\n",
    "print(\"LIME images generated!\")"
   ]
  },
  {
   "cell_type": "code",
   "execution_count": null,
   "metadata": {
    "pycharm": {
     "is_executing": true
    }
   },
   "outputs": [],
   "source": []
  }
 ],
 "metadata": {
  "kernelspec": {
   "display_name": "Python 3 (ipykernel)",
   "language": "python",
   "name": "python3"
  },
  "language_info": {
   "codemirror_mode": {
    "name": "ipython",
    "version": 3
   },
   "file_extension": ".py",
   "mimetype": "text/x-python",
   "name": "python",
   "nbconvert_exporter": "python",
   "pygments_lexer": "ipython3",
   "version": "3.8.15"
  }
 },
 "nbformat": 4,
 "nbformat_minor": 1
}
