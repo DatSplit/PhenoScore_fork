{
 "cells": [
  {
   "cell_type": "markdown",
   "metadata": {
    "collapsed": true,
    "pycharm": {
     "is_executing": true
    }
   },
   "source": [
    "# Getting started with PhenoScore\n",
    "In this notebook, we will run some basic analyses using PhenoScore to demonstrate how it works.\n",
    "First, lets get started and import the installed package (for instructions, please see the README.md)"
   ]
  },
  {
   "cell_type": "code",
   "execution_count": 1,
   "metadata": {},
   "outputs": [
    {
     "name": "stderr",
     "output_type": "stream",
     "text": [
      "2023-02-15 20:47:20,898 - phenopy - INFO - checking if config file exists: C:\\ProgramData\\Anaconda3\\envs\\PhenoScore\\.phenopy\n",
      "2023-02-15 20:47:20,901 - phenopy - INFO - phenopy 0.5.2\n",
      "2023-02-15 20:47:20,902 - phenopy - INFO - Using configuration file: C:\\ProgramData\\Anaconda3\\envs\\PhenoScore\\.phenopy\\phenopy.ini\n"
     ]
    },
    {
     "ename": "KeyboardInterrupt",
     "evalue": "",
     "output_type": "error",
     "traceback": [
      "\u001B[1;31m---------------------------------------------------------------------------\u001B[0m",
      "\u001B[1;31mKeyboardInterrupt\u001B[0m                         Traceback (most recent call last)",
      "Cell \u001B[1;32mIn[1], line 1\u001B[0m\n\u001B[1;32m----> 1\u001B[0m \u001B[38;5;28;01mfrom\u001B[39;00m \u001B[38;5;21;01mphenoscore\u001B[39;00m\u001B[38;5;21;01m.\u001B[39;00m\u001B[38;5;21;01mphenoscorer\u001B[39;00m \u001B[38;5;28;01mimport\u001B[39;00m PhenoScorer\n\u001B[0;32m      2\u001B[0m \u001B[38;5;28;01mimport\u001B[39;00m \u001B[38;5;21;01mos\u001B[39;00m\n",
      "File \u001B[1;32mc:\\users\\z184215\\documents\\h_schijf_lex\\projecten\\facereader\\scripts\\phenoscore\\phenoscore\\phenoscore\\phenoscorer.py:15\u001B[0m\n\u001B[0;32m     13\u001B[0m \u001B[38;5;28;01mfrom\u001B[39;00m \u001B[38;5;21;01mphenoscore\u001B[39;00m\u001B[38;5;21;01m.\u001B[39;00m\u001B[38;5;21;01mtables_and_figures\u001B[39;00m\u001B[38;5;21;01m.\u001B[39;00m\u001B[38;5;21;01mgen_tables_and_figs\u001B[39;00m \u001B[38;5;28;01mimport\u001B[39;00m get_top_HPO, get_heatmap_from_multiple\n\u001B[0;32m     14\u001B[0m \u001B[38;5;28;01mfrom\u001B[39;00m \u001B[38;5;21;01mphenoscore\u001B[39;00m\u001B[38;5;21;01m.\u001B[39;00m\u001B[38;5;21;01mexplainability_lime\u001B[39;00m\u001B[38;5;21;01m.\u001B[39;00m\u001B[38;5;21;01mLIME\u001B[39;00m \u001B[38;5;28;01mimport\u001B[39;00m explain_prediction\n\u001B[1;32m---> 15\u001B[0m \u001B[38;5;28;01mfrom\u001B[39;00m \u001B[38;5;21;01mphenoscore\u001B[39;00m\u001B[38;5;21;01m.\u001B[39;00m\u001B[38;5;21;01mfacial_feature_extraction\u001B[39;00m\u001B[38;5;21;01m.\u001B[39;00m\u001B[38;5;21;01mextract_facial_features\u001B[39;00m \u001B[38;5;28;01mimport\u001B[39;00m VGGFaceExtractor, QMagFaceExtractor\n\u001B[0;32m     16\u001B[0m \u001B[38;5;28;01mfrom\u001B[39;00m \u001B[38;5;21;01mphenoscore\u001B[39;00m\u001B[38;5;21;01m.\u001B[39;00m\u001B[38;5;21;01mmodels\u001B[39;00m\u001B[38;5;21;01m.\u001B[39;00m\u001B[38;5;21;01msvm\u001B[39;00m \u001B[38;5;28;01mimport\u001B[39;00m get_clf\n\u001B[0;32m     17\u001B[0m \u001B[38;5;28;01mfrom\u001B[39;00m \u001B[38;5;21;01msklearn\u001B[39;00m\u001B[38;5;21;01m.\u001B[39;00m\u001B[38;5;21;01mpreprocessing\u001B[39;00m \u001B[38;5;28;01mimport\u001B[39;00m normalize\n",
      "File \u001B[1;32mc:\\users\\z184215\\documents\\h_schijf_lex\\projecten\\facereader\\scripts\\phenoscore\\phenoscore\\phenoscore\\facial_feature_extraction\\extract_facial_features.py:9\u001B[0m\n\u001B[0;32m      7\u001B[0m \u001B[38;5;28;01mfrom\u001B[39;00m \u001B[38;5;21;01mQMagFace\u001B[39;00m\u001B[38;5;21;01m.\u001B[39;00m\u001B[38;5;21;01mpreprocessing\u001B[39;00m\u001B[38;5;21;01m.\u001B[39;00m\u001B[38;5;21;01minsightface\u001B[39;00m\u001B[38;5;21;01m.\u001B[39;00m\u001B[38;5;21;01msrc\u001B[39;00m\u001B[38;5;21;01m.\u001B[39;00m\u001B[38;5;21;01mmtcnn_detector\u001B[39;00m \u001B[38;5;28;01mimport\u001B[39;00m MtcnnDetector\n\u001B[0;32m      8\u001B[0m \u001B[38;5;28;01mfrom\u001B[39;00m \u001B[38;5;21;01mQMagFace\u001B[39;00m\u001B[38;5;21;01m.\u001B[39;00m\u001B[38;5;21;01mpreprocessing\u001B[39;00m\u001B[38;5;21;01m.\u001B[39;00m\u001B[38;5;21;01malign\u001B[39;00m \u001B[38;5;28;01mimport\u001B[39;00m preprocess\n\u001B[1;32m----> 9\u001B[0m \u001B[38;5;28;01mfrom\u001B[39;00m \u001B[38;5;21;01mQMagFace\u001B[39;00m\u001B[38;5;21;01m.\u001B[39;00m\u001B[38;5;21;01mpreprocessing\u001B[39;00m\u001B[38;5;21;01m.\u001B[39;00m\u001B[38;5;21;01mmagface\u001B[39;00m\u001B[38;5;21;01m.\u001B[39;00m\u001B[38;5;21;01mnetwork_inf\u001B[39;00m \u001B[38;5;28;01mimport\u001B[39;00m builder_inf\n\u001B[0;32m     10\u001B[0m \u001B[38;5;28;01mimport\u001B[39;00m \u001B[38;5;21;01mnumpy\u001B[39;00m \u001B[38;5;28;01mas\u001B[39;00m \u001B[38;5;21;01mnp\u001B[39;00m\n\u001B[0;32m     11\u001B[0m \u001B[38;5;28;01mimport\u001B[39;00m \u001B[38;5;21;01mcv2\u001B[39;00m\n",
      "File \u001B[1;32mC:\\Users\\z184215\\Documents\\H_schijf_Lex\\Projecten\\FaceReader\\Scripts\\PhenoScore\\PhenoScore\\phenoscore\\facial_feature_extraction\\QMagFace\\preprocessing\\magface\\network_inf.py:4\u001B[0m\n\u001B[0;32m      2\u001B[0m \u001B[38;5;28;01mimport\u001B[39;00m \u001B[38;5;21;01msys\u001B[39;00m\n\u001B[0;32m      3\u001B[0m sys\u001B[38;5;241m.\u001B[39mpath\u001B[38;5;241m.\u001B[39mappend(\u001B[38;5;124m\"\u001B[39m\u001B[38;5;124m..\u001B[39m\u001B[38;5;124m\"\u001B[39m)\n\u001B[1;32m----> 4\u001B[0m \u001B[38;5;28;01mfrom\u001B[39;00m \u001B[38;5;21;01mphenoscore\u001B[39;00m\u001B[38;5;21;01m.\u001B[39;00m\u001B[38;5;21;01mfacial_feature_extraction\u001B[39;00m\u001B[38;5;21;01m.\u001B[39;00m\u001B[38;5;21;01mQMagFace\u001B[39;00m\u001B[38;5;21;01m.\u001B[39;00m\u001B[38;5;21;01mpreprocessing\u001B[39;00m\u001B[38;5;21;01m.\u001B[39;00m\u001B[38;5;21;01mmagface\u001B[39;00m \u001B[38;5;28;01mimport\u001B[39;00m iresnet\n\u001B[0;32m      5\u001B[0m \u001B[38;5;28;01mfrom\u001B[39;00m \u001B[38;5;21;01mcollections\u001B[39;00m \u001B[38;5;28;01mimport\u001B[39;00m OrderedDict\n\u001B[0;32m      6\u001B[0m \u001B[38;5;28;01mfrom\u001B[39;00m \u001B[38;5;21;01mtqdm\u001B[39;00m \u001B[38;5;28;01mimport\u001B[39;00m tqdm\n",
      "File \u001B[1;32mc:\\users\\z184215\\documents\\h_schijf_lex\\projecten\\facereader\\scripts\\phenoscore\\phenoscore\\phenoscore\\facial_feature_extraction\\QMagFace\\preprocessing\\magface\\iresnet.py:1\u001B[0m\n\u001B[1;32m----> 1\u001B[0m \u001B[38;5;28;01mimport\u001B[39;00m \u001B[38;5;21;01mtorch\u001B[39;00m\n\u001B[0;32m      2\u001B[0m \u001B[38;5;28;01mfrom\u001B[39;00m \u001B[38;5;21;01mtorch\u001B[39;00m \u001B[38;5;28;01mimport\u001B[39;00m nn\n\u001B[0;32m      3\u001B[0m \u001B[38;5;66;03m# from torchvision.models.utils import load_state_dict_from_url\u001B[39;00m\n",
      "File \u001B[1;32mC:\\ProgramData\\Anaconda3\\envs\\PhenoScore\\lib\\site-packages\\torch\\__init__.py:123\u001B[0m\n\u001B[0;32m    121\u001B[0m is_loaded \u001B[38;5;241m=\u001B[39m \u001B[38;5;28;01mFalse\u001B[39;00m\n\u001B[0;32m    122\u001B[0m \u001B[38;5;28;01mif\u001B[39;00m with_load_library_flags:\n\u001B[1;32m--> 123\u001B[0m     res \u001B[38;5;241m=\u001B[39m \u001B[43mkernel32\u001B[49m\u001B[38;5;241;43m.\u001B[39;49m\u001B[43mLoadLibraryExW\u001B[49m\u001B[43m(\u001B[49m\u001B[43mdll\u001B[49m\u001B[43m,\u001B[49m\u001B[43m \u001B[49m\u001B[38;5;28;43;01mNone\u001B[39;49;00m\u001B[43m,\u001B[49m\u001B[43m \u001B[49m\u001B[38;5;241;43m0x00001100\u001B[39;49m\u001B[43m)\u001B[49m\n\u001B[0;32m    124\u001B[0m     last_error \u001B[38;5;241m=\u001B[39m ctypes\u001B[38;5;241m.\u001B[39mget_last_error()\n\u001B[0;32m    125\u001B[0m     \u001B[38;5;28;01mif\u001B[39;00m res \u001B[38;5;129;01mis\u001B[39;00m \u001B[38;5;28;01mNone\u001B[39;00m \u001B[38;5;129;01mand\u001B[39;00m last_error \u001B[38;5;241m!=\u001B[39m \u001B[38;5;241m126\u001B[39m:\n",
      "\u001B[1;31mKeyboardInterrupt\u001B[0m: "
     ]
    }
   ],
   "source": [
    "from phenoscore.phenoscorer import PhenoScorer\n",
    "import os"
   ]
  },
  {
   "cell_type": "markdown",
   "metadata": {},
   "source": [
    "Then, decided on what mode you want to run PhenoScore in: HPO-only, facial-features only, or using both. \n",
    "For now, we will do both and intialize PhenoScore with the standard options. PhenoScore will autodetect any GPUs that are available and if there are none, revert to CPU mode. If there are no GPUs detected, while there should be, please double check your installation and confirm cuDNN is installed in this environment as well."
   ]
  },
  {
   "cell_type": "code",
   "execution_count": null,
   "metadata": {},
   "outputs": [],
   "source": [
    "mode = 'both'\n",
    "phenoscorer = PhenoScorer(gene_name='SATB1', \n",
    "                          mode=mode,\n",
    "                          method_hpo_similarity='Resnik',\n",
    "                          method_summ_hpo_similarities='BMA')"
   ]
  },
  {
   "cell_type": "markdown",
   "metadata": {},
   "source": [
    "Now that PhenoScore is ready, let's load data. In this case, let's take a look at the SATB1 subgroup analyses: the data is included in the package."
   ]
  },
  {
   "cell_type": "code",
   "execution_count": null,
   "metadata": {},
   "outputs": [],
   "source": [
    "X, y, img_paths, df_data = phenoscorer.load_data_from_excel(os.path.join('../', 'phenoscore', 'sample_data','satb1_data.xlsx'))\n",
    "print('Data loaded!')"
   ]
  },
  {
   "cell_type": "markdown",
   "metadata": {},
   "source": [
    "Now that the data is loaded, we can run the permutation test, to see if we can distinguish the two groups."
   ]
  },
  {
   "cell_type": "code",
   "execution_count": null,
   "metadata": {},
   "outputs": [],
   "source": [
    "phenoscorer.permutation_test(X, y, bootstraps=1000)\n",
    "print(\"Brier:\" + str(phenoscorer.permutation_test_brier))\n",
    "print(\"AUC:\" + str(phenoscorer.permutation_test_auc))\n",
    "print(\"P value:\" + str(phenoscorer.permutation_test_p_value))"
   ]
  },
  {
   "cell_type": "markdown",
   "metadata": {},
   "source": [
    "The result is significant! So PhenoScore is able to detect a phenotypic difference between the two groups. Of course, we would like to know what the clinical difference is. So let's investigate this, using LIME. "
   ]
  },
  {
   "cell_type": "code",
   "execution_count": null,
   "metadata": {},
   "outputs": [],
   "source": [
    "phenoscorer.get_lime(X, y, img_paths, n_lime=5)\n",
    "phenoscorer.gen_lime_and_results_figure(bg_image=os.path.join('../', 'phenoscore', 'sample_data','background_image.jpg'),\n",
    "                                        df_data=df_data, filename='lime_figure.pdf')\n",
    "print(\"LIME images generated!\")"
   ]
  },
  {
   "cell_type": "markdown",
   "metadata": {},
   "source": [
    "Finally, we can generate a VUS prediction for a SATB1 individual (as if it where an individual with a VUS, of course in this case, purely for demonstrational purposes)."
   ]
  },
  {
   "cell_type": "code",
   "execution_count": null,
   "metadata": {},
   "outputs": [],
   "source": [
    "phenoscorer.predict_new_sample(X, y, img_paths[-1], X[-1,-1])\n",
    "print(\"Predictive score between 0 (control) and 1 (syndrome): \" + str(phenoscorer.vus_results[0]))\n",
    "phenoscorer.gen_vus_figure(filename='individual_lime_explanations.pdf')"
   ]
  },
  {
   "cell_type": "markdown",
   "metadata": {},
   "source": [
    "We can do the same procedures for HPO-only mode as well, simply by just changing that parameter."
   ]
  },
  {
   "cell_type": "code",
   "execution_count": null,
   "metadata": {},
   "outputs": [],
   "source": [
    "mode = 'hpo'\n",
    "phenoscorer = PhenoScorer(gene_name='SATB1', \n",
    "                          mode=mode,\n",
    "                          method_hpo_similarity='Resnik',\n",
    "                          method_summ_hpo_similarities='BMA')\n",
    "X, y, img_paths, df_data = phenoscorer.load_data_from_excel(os.path.join('../', 'phenoscore', 'sample_data','satb1_data.xlsx'))\n",
    "print('Data loaded!')\n",
    "phenoscorer.permutation_test(X, y, bootstraps=1000)\n",
    "print(\"Brier:\" + str(phenoscorer.permutation_test_brier))\n",
    "print(\"AUC:\" + str(phenoscorer.permutation_test_auc))\n",
    "print(\"P value:\" + str(phenoscorer.permutation_test_p_value))\n",
    "phenoscorer.get_lime(X, y, img_paths, n_lime=5)\n",
    "phenoscorer.gen_lime_and_results_figure(bg_image=os.path.join('../', 'phenoscore', 'sample_data','background_image.jpg'),\n",
    "                                        df_data=df_data, filename='lime_figure.pdf')\n",
    "print(\"LIME images generated!\")"
   ]
  },
  {
   "cell_type": "markdown",
   "metadata": {},
   "source": [
    "And similar when only using facial images (or when these are the only ones available):"
   ]
  },
  {
   "cell_type": "code",
   "execution_count": null,
   "metadata": {},
   "outputs": [],
   "source": [
    "mode = 'face'\n",
    "phenoscorer = PhenoScorer(gene_name='SATB1', \n",
    "                          mode=mode,\n",
    "                          method_hpo_similarity='Resnik',\n",
    "                          method_summ_hpo_similarities='BMA')\n",
    "X, y, img_paths, df_data = phenoscorer.load_data_from_excel(os.path.join('../', 'phenoscore', 'sample_data','satb1_data.xlsx'))\n",
    "print('Data loaded!')\n",
    "phenoscorer.permutation_test(X, y, bootstraps=1000)\n",
    "print(\"Brier:\" + str(phenoscorer.permutation_test_brier))\n",
    "print(\"AUC:\" + str(phenoscorer.permutation_test_auc))\n",
    "print(\"P value:\" + str(phenoscorer.permutation_test_p_value))\n",
    "phenoscorer.get_lime(X, y, img_paths, n_lime=5)\n",
    "phenoscorer.gen_lime_and_results_figure(bg_image=os.path.join('../', 'phenoscore', 'sample_data','background_image.jpg'),\n",
    "                                        df_data=df_data, filename='lime_figure.pdf')\n",
    "print(\"LIME images generated!\")"
   ]
  }
 ],
 "metadata": {
  "kernelspec": {
   "display_name": "Python 3 (ipykernel)",
   "language": "python",
   "name": "python3"
  },
  "language_info": {
   "codemirror_mode": {
    "name": "ipython",
    "version": 3
   },
   "file_extension": ".py",
   "mimetype": "text/x-python",
   "name": "python",
   "nbconvert_exporter": "python",
   "pygments_lexer": "ipython3",
   "version": "3.8.15"
  }
 },
 "nbformat": 4,
 "nbformat_minor": 1
}
