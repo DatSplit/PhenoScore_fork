{
 "cells": [
  {
   "cell_type": "markdown",
   "metadata": {
    "collapsed": true,
    "pycharm": {
     "is_executing": true
    }
   },
   "source": [
    "# Getting started with PhenoScore\n",
    "In this notebook, we will run some basic analyses using PhenoScore to demonstrate how it works.\n",
    "First, lets get started and import the installed package (for instructions, please see the README.md)"
   ]
  },
  {
   "cell_type": "code",
   "execution_count": 5,
   "metadata": {},
   "outputs": [],
   "source": [
    "from phenoscore.phenoscorer import PhenoScorer\n",
    "import os"
   ]
  },
  {
   "cell_type": "markdown",
   "metadata": {},
   "source": [
    "Then, decided on what mode you want to run PhenoScore in: HPO-only, facial-features only, or using both. \n",
    "For now, we will do both and intialize PhenoScore with the standard options. PhenoScore will autodetect any GPUs that are available and if there are none, revert to CPU mode. If there are no GPUs detected, while there should be, please double check your installation and confirm cuDNN is installed in this environment as well."
   ]
  },
  {
   "cell_type": "code",
   "execution_count": 3,
   "metadata": {},
   "outputs": [
    {
     "name": "stdout",
     "output_type": "stream",
     "text": [
      "Using CPU, since no GPUs are found!\n"
     ]
    }
   ],
   "source": [
    "mode = 'both'\n",
    "phenoscorer = PhenoScorer(gene_name='SATB1', \n",
    "                          mode=mode,\n",
    "                          method_hpo_similarity='Resnik',\n",
    "                          method_summ_hpo_similarities='BMA')"
   ]
  },
  {
   "cell_type": "markdown",
   "metadata": {},
   "source": [
    "Now that PhenoScore is ready, let's load data. In this case, let's take a look at the SATB1 subgroup analyses: the data is included in the package."
   ]
  },
  {
   "cell_type": "code",
   "execution_count": 6,
   "metadata": {},
   "outputs": [
    {
     "name": "stdout",
     "output_type": "stream",
     "text": [
      "Data loaded!\n"
     ]
    }
   ],
   "source": [
    "X, y, img_paths, df_data = phenoscorer.load_data_from_excel(os.path.join('../', 'phenoscore', 'sample_data','satb1_data.xlsx'))\n",
    "print('Data loaded!')"
   ]
  },
  {
   "cell_type": "markdown",
   "metadata": {},
   "source": [
    "Now that the data is loaded, we can run the permutation test, to see if we can distinguish the two groups."
   ]
  },
  {
   "cell_type": "code",
   "execution_count": 7,
   "metadata": {},
   "outputs": [
    {
     "name": "stderr",
     "output_type": "stream",
     "text": [
      "100%|██████████| 1001/1001 [07:57<00:00,  2.10it/s]\n"
     ]
    },
    {
     "name": "stdout",
     "output_type": "stream",
     "text": [
      "Brier:0.19627337635662867\n",
      "AUC:0.78125\n",
      "P value:0.013986013986013991\n"
     ]
    }
   ],
   "source": [
    "phenoscorer.permutation_test(X, y, bootstraps=1000)\n",
    "print(\"Brier:\" + str(phenoscorer.permutation_test_brier))\n",
    "print(\"AUC:\" + str(phenoscorer.permutation_test_auc))\n",
    "print(\"P value:\" + str(phenoscorer.permutation_test_p_value))"
   ]
  },
  {
   "cell_type": "markdown",
   "metadata": {},
   "source": [
    "The result is significant! So PhenoScore is able to detect a phenotypic difference between the two groups. Of course, we would like to know what the clinical difference is. So let's investigate this, using LIME. "
   ]
  },
  {
   "cell_type": "code",
   "execution_count": null,
   "metadata": {},
   "outputs": [
    {
     "name": "stdout",
     "output_type": "stream",
     "text": [
      "Starting cross validation procedure to compare using facial/HPO data only with PhenoScore.\n",
      "Finished cross validation and evaluation of model scores. Now starting LIME for the top 5 predictions to generate heatmaps and visualise phenotypic differences.\n"
     ]
    },
    {
     "name": "stderr",
     "output_type": "stream",
     "text": [
      "\r",
      "  0%|          | 0/5 [00:00<?, ?it/s]"
     ]
    }
   ],
   "source": [
    "phenoscorer.get_lime(X, y, img_paths, n_lime=5)\n",
    "phenoscorer.gen_lime_and_results_figure(bg_image=os.path.join('../', 'phenoscore', 'sample_data','background_image.jpg'),\n",
    "                                        df_data=df_data, filename='lime_figure.pdf')\n",
    "print(\"LIME images generated!\")"
   ]
  },
  {
   "cell_type": "markdown",
   "metadata": {},
   "source": [
    "Finally, we can generate a VUS prediction for a SATB1 individual (as if it where an individual with a VUS, of course in this case, purely for demonstrational purposes)."
   ]
  },
  {
   "cell_type": "code",
   "execution_count": null,
   "metadata": {},
   "outputs": [],
   "source": [
    "phenoscorer.predict_new_sample(X, y, img_paths[-1], X[-1,-1])\n",
    "print(\"Predictive score between 0 (control) and 1 (syndrome): \" + str(phenoscorer.vus_results[0]))\n",
    "phenoscorer.gen_vus_figure(filename='individual_lime_explanations.pdf')"
   ]
  },
  {
   "cell_type": "markdown",
   "metadata": {},
   "source": [
    "We can do the same procedures for HPO-only mode as well, simply by just changing that parameter."
   ]
  },
  {
   "cell_type": "code",
   "execution_count": null,
   "metadata": {},
   "outputs": [],
   "source": [
    "mode = 'hpo'\n",
    "phenoscorer = PhenoScorer(gene_name='SATB1', \n",
    "                          mode=mode,\n",
    "                          method_hpo_similarity='Resnik',\n",
    "                          method_summ_hpo_similarities='BMA')\n",
    "X, y, img_paths, df_data = phenoscorer.load_data_from_excel(os.path.join('../', 'phenoscore', 'sample_data','satb1_data.xlsx'))\n",
    "print('Data loaded!')\n",
    "phenoscorer.permutation_test(X, y, bootstraps=1000)\n",
    "print(\"Brier:\" + str(phenoscorer.permutation_test_brier))\n",
    "print(\"AUC:\" + str(phenoscorer.permutation_test_auc))\n",
    "print(\"P value:\" + str(phenoscorer.permutation_test_p_value))\n",
    "phenoscorer.get_lime(X, y, img_paths, n_lime=5)\n",
    "phenoscorer.gen_lime_and_results_figure(bg_image=os.path.join('../', 'phenoscore', 'sample_data','background_image.jpg'),\n",
    "                                        df_data=df_data, filename='lime_figure.pdf')\n",
    "print(\"LIME images generated!\")"
   ]
  },
  {
   "cell_type": "markdown",
   "metadata": {},
   "source": [
    "And similar when only using facial images (or when these are the only ones available):"
   ]
  },
  {
   "cell_type": "code",
   "execution_count": null,
   "metadata": {},
   "outputs": [],
   "source": [
    "mode = 'face'\n",
    "phenoscorer = PhenoScorer(gene_name='SATB1', \n",
    "                          mode=mode,\n",
    "                          method_hpo_similarity='Resnik',\n",
    "                          method_summ_hpo_similarities='BMA')\n",
    "X, y, img_paths, df_data = phenoscorer.load_data_from_excel(os.path.join('../', 'phenoscore', 'sample_data','satb1_data.xlsx'))\n",
    "print('Data loaded!')\n",
    "phenoscorer.permutation_test(X, y, bootstraps=1000)\n",
    "print(\"Brier:\" + str(phenoscorer.permutation_test_brier))\n",
    "print(\"AUC:\" + str(phenoscorer.permutation_test_auc))\n",
    "print(\"P value:\" + str(phenoscorer.permutation_test_p_value))\n",
    "phenoscorer.get_lime(X, y, img_paths, n_lime=5)\n",
    "phenoscorer.gen_lime_and_results_figure(bg_image=os.path.join('../', 'phenoscore', 'sample_data','background_image.jpg'),\n",
    "                                        df_data=df_data, filename='lime_figure.pdf')\n",
    "print(\"LIME images generated!\")"
   ]
  }
 ],
 "metadata": {
  "kernelspec": {
   "display_name": "Python 3 (ipykernel)",
   "language": "python",
   "name": "python3"
  },
  "language_info": {
   "codemirror_mode": {
    "name": "ipython",
    "version": 3
   },
   "file_extension": ".py",
   "mimetype": "text/x-python",
   "name": "python",
   "nbconvert_exporter": "python",
   "pygments_lexer": "ipython3",
   "version": "3.8.15"
  }
 },
 "nbformat": 4,
 "nbformat_minor": 1
}
